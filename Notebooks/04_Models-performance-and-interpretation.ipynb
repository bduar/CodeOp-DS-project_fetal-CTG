{
 "cells": [
  {
   "cell_type": "markdown",
   "id": "0df18785-e94b-4fd0-b4e8-c3e43dc63855",
   "metadata": {},
   "source": [
    "#### \"Fetal Health Classification from Cardiotocographic Data using Machine Learning Models\"\n",
    "#### Berta Duran Arqué (https://github.com/bduar)\n",
    "#### October 2022\n",
    "#### Notebook 4/4"
   ]
  },
  {
   "cell_type": "markdown",
   "id": "e2b6022a-8689-40ba-9541-14f59e6ce95b",
   "metadata": {},
   "source": [
    "# 4 - Models' performance evaluation and interpretation"
   ]
  },
  {
   "cell_type": "code",
   "execution_count": 1,
   "id": "a04bba8a-0ffd-45df-9bdc-1267c14f578a",
   "metadata": {},
   "outputs": [],
   "source": [
    "# Dependencies\n",
    "import numpy as np\n",
    "import pandas as pd\n",
    "\n",
    "import joblib\n",
    "\n",
    "from sklearn.metrics import accuracy_score, classification_report, confusion_matrix, ConfusionMatrixDisplay, f1_score \n",
    "from sklearn.metrics import precision_score, recall_score\n",
    "from sklearn.model_selection import cross_validate, cross_val_score, StratifiedKFold\n",
    "\n",
    "from matplotlib import pyplot as plt"
   ]
  },
  {
   "cell_type": "code",
   "execution_count": 4,
   "id": "52aa27db-c739-43f7-a6c1-606199af7b97",
   "metadata": {},
   "outputs": [],
   "source": [
    "# Load saved models and datasets\n",
    "best_models = joblib.load(\"./models/fitted_grids_third.sav\")\n",
    "datasets_dict = joblib.load(\"./models/datasets_dict.sav\")"
   ]
  },
  {
   "cell_type": "markdown",
   "id": "04faeb8d-df04-42aa-8c5c-8cde4f070f6a",
   "metadata": {
    "tags": []
   },
   "source": [
    "### 4.1 - Performance and interpretation of the Random Forest for the CLASS classifier"
   ]
  },
  {
   "cell_type": "code",
   "execution_count": 26,
   "id": "f08e1462-ba2c-4c0b-a585-5a03ed97fe26",
   "metadata": {},
   "outputs": [
    {
     "data": {
      "text/plain": [
       "RandomForestClassifier(criterion='entropy', max_depth=17, min_samples_leaf=2,\n",
       "                       min_samples_split=3, n_jobs=-1)"
      ]
     },
     "execution_count": 26,
     "metadata": {},
     "output_type": "execute_result"
    }
   ],
   "source": [
    "# Retrieving the best Random Forest for the CLASS classifier and the dataset\n",
    "rf_CLASS = best_models[\"raw_CLASS\"][\"model\"]\n",
    "X_train, X_test, y_train, y_test = datasets_dict[\"raw_CLASS\"][0], datasets_dict[\"raw_CLASS\"][1], datasets_dict[\"raw_CLASS\"][2], datasets_dict[\"raw_CLASS\"][3]\n",
    "\n",
    "rf_CLASS"
   ]
  },
  {
   "cell_type": "markdown",
   "id": "3663987b-4877-4cae-b4cd-f3b1c63e0f91",
   "metadata": {
    "jp-MarkdownHeadingCollapsed": true,
    "tags": []
   },
   "source": [
    "#### Cross-validated performance metrics\n",
    "\n",
    "The first thing we will look at are cross-validated performance metrics. These metrics are calculated multiple times on the test dataset using different splits. These should be more robust than a single non-cross validated performance measurement.\n",
    "The cross-validated metrics will be returned in a dictionary and we can obtain their mean and standard deviation for ease of interpretaion."
   ]
  },
  {
   "cell_type": "code",
   "execution_count": 64,
   "id": "70291b65-3748-4fe2-b048-d4246d5db42d",
   "metadata": {},
   "outputs": [
    {
     "name": "stdout",
     "output_type": "stream",
     "text": [
      "fit_time: [0.9817 0.0391 0.039  0.0416 0.0384]\n",
      " Mean: 0.228\n",
      " Stdev: 0.3769\n",
      "score_time: [0.0097 0.0073 0.007  0.0072 0.0069]\n",
      " Mean: 0.0076\n",
      " Stdev: 0.0011\n",
      "test_recall_macro: [0.8633 0.7722 0.7738 0.7816 0.8482]\n",
      " Mean: 0.8078\n",
      " Stdev: 0.0396\n",
      "test_f1_macro: [0.8958 0.8347 0.8439 0.8297 0.8802]\n",
      " Mean: 0.8568\n",
      " Stdev: 0.0263\n",
      "test_precision_macro: [0.9402 0.9306 0.9667 0.9072 0.9185]\n",
      " Mean: 0.9326\n",
      " Stdev: 0.0203\n",
      "test_accuracy: [0.9531 0.9219 0.9141 0.9134 0.9213]\n",
      " Mean: 0.9247\n",
      " Stdev: 0.0146\n"
     ]
    }
   ],
   "source": [
    "scoring = {'accuracy', 'precision_macro', 'recall_macro', 'f1_macro'}\n",
    "\n",
    "kfold = StratifiedKFold(n_splits = 5)\n",
    "scores = cross_validate(rf_CLASS, X_test, y_test, scoring=scoring, cv=kfold)\n",
    "\n",
    "for element in scores:\n",
    "    print(f\"{element}: {scores[element].round(4)}\\n Mean: {scores[element].mean().round(4)}\\n Stdev: {scores[element].std().round(4)}\")"
   ]
  },
  {
   "cell_type": "markdown",
   "id": "685a4757-e65d-4c9d-bf0e-07effeea0379",
   "metadata": {
    "tags": []
   },
   "source": [
    "#### Classification report\n",
    "\n",
    "Similarly, we can produce a classification report that will summarize most of the performance metrics, including per-class precision, recall and F1 score."
   ]
  },
  {
   "cell_type": "code",
   "execution_count": 48,
   "id": "a5881bf5-527e-4f6d-a36c-029be6aa953d",
   "metadata": {},
   "outputs": [],
   "source": [
    "y_pred = rf_CLASS.predict(X_test)\n",
    "#y_pred # To check the prediction"
   ]
  },
  {
   "cell_type": "code",
   "execution_count": 49,
   "id": "78ba11e3-dffb-4c6c-a61e-b5543e4b65f6",
   "metadata": {},
   "outputs": [
    {
     "name": "stdout",
     "output_type": "stream",
     "text": [
      "              precision    recall  f1-score   support\n",
      "\n",
      "           0       0.87      0.90      0.88       118\n",
      "           1       0.89      0.95      0.92       169\n",
      "           2       0.71      0.71      0.71        17\n",
      "           3       1.00      0.62      0.77        24\n",
      "           4       0.85      0.46      0.59        24\n",
      "           5       0.94      0.97      0.95        93\n",
      "           6       0.92      0.99      0.95        80\n",
      "           7       1.00      0.92      0.96        25\n",
      "           8       0.87      0.87      0.87        15\n",
      "           9       0.93      0.89      0.91        73\n",
      "\n",
      "    accuracy                           0.90       638\n",
      "   macro avg       0.90      0.83      0.85       638\n",
      "weighted avg       0.90      0.90      0.90       638\n",
      "\n"
     ]
    }
   ],
   "source": [
    "print(classification_report(y_test, y_pred))"
   ]
  },
  {
   "cell_type": "markdown",
   "id": "6c827fca-9b82-4862-85ff-eca3852b7b44",
   "metadata": {},
   "source": [
    "We can see that we have good scores in most categories. Perhaps class 4 stands out due to bad recall and F1 scores, but it is also one of the smaller categories, so a bigger error would be expected."
   ]
  },
  {
   "cell_type": "markdown",
   "id": "83da0bc8-4f9d-474c-ad33-22e6e8524784",
   "metadata": {
    "tags": []
   },
   "source": [
    "#### Confusion matrix\n",
    "\n",
    "The confusion matrix provides a graphical interpretation of the results in the classification report. We can see true positives (diagonal)"
   ]
  },
  {
   "cell_type": "code",
   "execution_count": 52,
   "id": "ed1478cb-8805-4351-964f-59c83d3c3cfa",
   "metadata": {},
   "outputs": [
    {
     "data": {
      "image/png": "[encoded data removed]",
      "text/plain": [
       "<Figure size 432x288 with 2 Axes>"
      ]
     },
     "metadata": {
      "needs_background": "light"
     },
     "output_type": "display_data"
    }
   ],
   "source": [
    "cm = confusion_matrix(y_test, y_pred, labels=rf_CLASS.classes_)\n",
    "disp = ConfusionMatrixDisplay(confusion_matrix=cm, display_labels=rf_CLASS.classes_)\n",
    "disp.plot()\n",
    "plt.title(\"Class categories\")\n",
    "plt.show()"
   ]
  },
  {
   "cell_type": "markdown",
   "id": "440475cd-caf1-4539-a30e-c79567d92e9d",
   "metadata": {
    "tags": []
   },
   "source": [
    "#### Feature importance\n",
    "\n",
    "Last, feature importance aims at providing interpretability to the model. We can obtain the relative contributions of the different variables to the model decision directly from the model object."
   ]
  },
  {
   "cell_type": "code",
   "execution_count": 53,
   "id": "a4151e35-a8c2-472d-9ffb-26d7562bb187",
   "metadata": {},
   "outputs": [
    {
     "data": {
      "text/html": [
       "<div>\n",
       "<style scoped>\n",
       "    .dataframe tbody tr th:only-of-type {\n",
       "        vertical-align: middle;\n",
       "    }\n",
       "\n",
       "    .dataframe tbody tr th {\n",
       "        vertical-align: top;\n",
       "    }\n",
       "\n",
       "    .dataframe thead th {\n",
       "        text-align: right;\n",
       "    }\n",
       "</style>\n",
       "<table border=\"1\" class=\"dataframe\">\n",
       "  <thead>\n",
       "    <tr style=\"text-align: right;\">\n",
       "      <th></th>\n",
       "      <th>variable</th>\n",
       "      <th>importance</th>\n",
       "    </tr>\n",
       "  </thead>\n",
       "  <tbody>\n",
       "    <tr>\n",
       "      <th>1</th>\n",
       "      <td>AC</td>\n",
       "      <td>0.211704</td>\n",
       "    </tr>\n",
       "    <tr>\n",
       "      <th>8</th>\n",
       "      <td>DL</td>\n",
       "      <td>0.128225</td>\n",
       "    </tr>\n",
       "    <tr>\n",
       "      <th>17</th>\n",
       "      <td>Variance</td>\n",
       "      <td>0.111854</td>\n",
       "    </tr>\n",
       "    <tr>\n",
       "      <th>5</th>\n",
       "      <td>MSTV</td>\n",
       "      <td>0.073664</td>\n",
       "    </tr>\n",
       "    <tr>\n",
       "      <th>4</th>\n",
       "      <td>ASTV</td>\n",
       "      <td>0.068907</td>\n",
       "    </tr>\n",
       "    <tr>\n",
       "      <th>12</th>\n",
       "      <td>Min</td>\n",
       "      <td>0.056596</td>\n",
       "    </tr>\n",
       "    <tr>\n",
       "      <th>16</th>\n",
       "      <td>Median</td>\n",
       "      <td>0.055567</td>\n",
       "    </tr>\n",
       "    <tr>\n",
       "      <th>7</th>\n",
       "      <td>MLTV</td>\n",
       "      <td>0.047760</td>\n",
       "    </tr>\n",
       "    <tr>\n",
       "      <th>6</th>\n",
       "      <td>ALTV</td>\n",
       "      <td>0.046600</td>\n",
       "    </tr>\n",
       "    <tr>\n",
       "      <th>11</th>\n",
       "      <td>Width</td>\n",
       "      <td>0.042967</td>\n",
       "    </tr>\n",
       "  </tbody>\n",
       "</table>\n",
       "</div>"
      ],
      "text/plain": [
       "    variable  importance\n",
       "1         AC    0.211704\n",
       "8         DL    0.128225\n",
       "17  Variance    0.111854\n",
       "5       MSTV    0.073664\n",
       "4       ASTV    0.068907\n",
       "12       Min    0.056596\n",
       "16    Median    0.055567\n",
       "7       MLTV    0.047760\n",
       "6       ALTV    0.046600\n",
       "11     Width    0.042967"
      ]
     },
     "execution_count": 53,
     "metadata": {},
     "output_type": "execute_result"
    }
   ],
   "source": [
    "# Feature importance of the random forest model\n",
    "feature_importance_CLASS = pd.DataFrame()\n",
    "\n",
    "feature_importance_CLASS['variable'] = datasets_dict[\"raw_CLASS\"][0].columns\n",
    "feature_importance_CLASS['importance'] = rf_CLASS.feature_importances_\n",
    "\n",
    "# Feature_importance values in descending order\n",
    "feature_importance_CLASS = feature_importance_CLASS.sort_values(by='importance', ascending=False)\n",
    "feature_importance_CLASS.head(10)"
   ]
  },
  {
   "cell_type": "code",
   "execution_count": 74,
   "id": "e2bfc081-ce2f-4fc4-ab15-f1ece75a7fdd",
   "metadata": {},
   "outputs": [
    {
     "data": {
      "image/png": "[encoded data removed]",
      "text/plain": [
       "<Figure size 432x288 with 1 Axes>"
      ]
     },
     "metadata": {
      "needs_background": "light"
     },
     "output_type": "display_data"
    }
   ],
   "source": [
    "fig = plt.figure()\n",
    "ax = fig.add_axes([1, 1, 1, 1])\n",
    "ax.barh(feature_importance_CLASS[\"variable\"][0:10], feature_importance_CLASS[\"importance\"][0:10], height = .7)\n",
    "plt.show()"
   ]
  },
  {
   "cell_type": "markdown",
   "id": "5c9df01e-7499-43c6-bee2-4d4412c220da",
   "metadata": {},
   "source": [
    "Where AC is the number of accelerations per second, DL the number of light decelerations per second and variance is the histograms' variance."
   ]
  },
  {
   "cell_type": "markdown",
   "id": "03da6b42-3faf-44a4-bf7d-0284e776aab0",
   "metadata": {
    "jp-MarkdownHeadingCollapsed": true,
    "tags": []
   },
   "source": [
    "### 4.2 - Performance and interpretation of the Random Forest for the NSP classifier\n",
    "\n",
    "We will apply the same metrics to the NSP classification."
   ]
  },
  {
   "cell_type": "code",
   "execution_count": 63,
   "id": "13437798-7b82-4b2e-b991-f8aaa197d4fc",
   "metadata": {},
   "outputs": [
    {
     "data": {
      "text/plain": [
       "RandomForestClassifier(criterion='entropy', max_depth=15, min_samples_leaf=2,\n",
       "                       min_samples_split=3, n_jobs=-1)"
      ]
     },
     "execution_count": 63,
     "metadata": {},
     "output_type": "execute_result"
    }
   ],
   "source": [
    "rf_NSP = best_models[\"raw_NSP\"][\"model\"]\n",
    "X_train, X_test, y_train, y_test = datasets_dict[\"raw_NSP\"][0], datasets_dict[\"raw_NSP\"][1], datasets_dict[\"raw_NSP\"][2], datasets_dict[\"raw_NSP\"][3]\n",
    "\n",
    "rf_NSP"
   ]
  },
  {
   "cell_type": "markdown",
   "id": "64d66bf1-4370-4f6e-9ed7-55a03c1f6479",
   "metadata": {
    "jp-MarkdownHeadingCollapsed": true,
    "tags": []
   },
   "source": [
    "#### Multiple metrics with cross-validation"
   ]
  },
  {
   "cell_type": "code",
   "execution_count": 65,
   "id": "477b5030-3ac2-455e-975b-2d647b7f3f8f",
   "metadata": {},
   "outputs": [
    {
     "name": "stdout",
     "output_type": "stream",
     "text": [
      "fit_time: [0.0745 0.0387 0.0386 0.0378 0.0393]\n",
      " Mean: 0.0458\n",
      " Stdev: 0.0144\n",
      "score_time: [0.0081 0.0074 0.0073 0.0071 0.0067]\n",
      " Mean: 0.0073\n",
      " Stdev: 0.0005\n",
      "test_recall_macro: [0.8633 0.7722 0.7579 0.7816 0.8482]\n",
      " Mean: 0.8047\n",
      " Stdev: 0.0427\n",
      "test_f1_macro: [0.8958 0.8347 0.8292 0.8297 0.8802]\n",
      " Mean: 0.8539\n",
      " Stdev: 0.0283\n",
      "test_precision_macro: [0.9402 0.9306 0.964  0.9072 0.9185]\n",
      " Mean: 0.9321\n",
      " Stdev: 0.0194\n",
      "test_accuracy: [0.9531 0.9219 0.9062 0.9134 0.9213]\n",
      " Mean: 0.9232\n",
      " Stdev: 0.016\n"
     ]
    }
   ],
   "source": [
    "scoring = {'accuracy', 'precision_macro', 'recall_macro', 'f1_macro'}\n",
    "\n",
    "kfold = StratifiedKFold(n_splits=5)\n",
    "scores = cross_validate(rf_CLASS, X_test, y_test, scoring=scoring, cv=kfold)\n",
    "\n",
    "for element in scores:\n",
    "    print(f\"{element}: {scores[element].round(4)}\\n Mean: {scores[element].mean().round(4)}\\n Stdev: {scores[element].std().round(4)}\")"
   ]
  },
  {
   "cell_type": "markdown",
   "id": "791c391a-ea2b-4872-bd0f-73345ac257f0",
   "metadata": {
    "jp-MarkdownHeadingCollapsed": true,
    "tags": []
   },
   "source": [
    "#### Classification report"
   ]
  },
  {
   "cell_type": "code",
   "execution_count": 66,
   "id": "f1a9b518-8e93-4fb3-b775-14e3b2b6d313",
   "metadata": {},
   "outputs": [],
   "source": [
    "y_pred = rf_NSP.predict(X_test)\n",
    "#y_pred"
   ]
  },
  {
   "cell_type": "code",
   "execution_count": 67,
   "id": "11fe1182-5605-4196-8dab-806304f9b7b6",
   "metadata": {},
   "outputs": [
    {
     "name": "stdout",
     "output_type": "stream",
     "text": [
      "              precision    recall  f1-score   support\n",
      "\n",
      "           0       0.96      0.99      0.97       496\n",
      "           1       0.91      0.79      0.85       101\n",
      "           2       1.00      0.93      0.96        41\n",
      "\n",
      "    accuracy                           0.95       638\n",
      "   macro avg       0.95      0.90      0.93       638\n",
      "weighted avg       0.95      0.95      0.95       638\n",
      "\n"
     ]
    }
   ],
   "source": [
    "print(classification_report(y_test, y_pred))"
   ]
  },
  {
   "cell_type": "markdown",
   "id": "d757eeb9-fe0a-49bf-b40c-73e216d6b34c",
   "metadata": {
    "jp-MarkdownHeadingCollapsed": true,
    "tags": []
   },
   "source": [
    "#### Confusion matrix"
   ]
  },
  {
   "cell_type": "code",
   "execution_count": 68,
   "id": "4f02f9f8-f26e-4779-8587-301d08eb2200",
   "metadata": {},
   "outputs": [
    {
     "data": {
      "image/png": "[encoded data removed]",
      "text/plain": [
       "<Figure size 432x288 with 2 Axes>"
      ]
     },
     "metadata": {
      "needs_background": "light"
     },
     "output_type": "display_data"
    }
   ],
   "source": [
    "cm = confusion_matrix(y_test, y_pred, labels=rf_NSP.classes_)\n",
    "disp = ConfusionMatrixDisplay(confusion_matrix=cm, display_labels=rf_NSP.classes_)\n",
    "disp.plot()\n",
    "plt.show()"
   ]
  },
  {
   "cell_type": "markdown",
   "id": "2c4708dd-7e84-4a0a-a1e6-e8c23a3e2f4a",
   "metadata": {
    "jp-MarkdownHeadingCollapsed": true,
    "tags": []
   },
   "source": [
    "#### Feature importance"
   ]
  },
  {
   "cell_type": "code",
   "execution_count": 70,
   "id": "331a575f-3541-4a0b-a7b2-19ce0a836242",
   "metadata": {},
   "outputs": [
    {
     "data": {
      "text/html": [
       "<div>\n",
       "<style scoped>\n",
       "    .dataframe tbody tr th:only-of-type {\n",
       "        vertical-align: middle;\n",
       "    }\n",
       "\n",
       "    .dataframe tbody tr th {\n",
       "        vertical-align: top;\n",
       "    }\n",
       "\n",
       "    .dataframe thead th {\n",
       "        text-align: right;\n",
       "    }\n",
       "</style>\n",
       "<table border=\"1\" class=\"dataframe\">\n",
       "  <thead>\n",
       "    <tr style=\"text-align: right;\">\n",
       "      <th></th>\n",
       "      <th>variable</th>\n",
       "      <th>importance</th>\n",
       "    </tr>\n",
       "  </thead>\n",
       "  <tbody>\n",
       "    <tr>\n",
       "      <th>4</th>\n",
       "      <td>ASTV</td>\n",
       "      <td>0.150498</td>\n",
       "    </tr>\n",
       "    <tr>\n",
       "      <th>5</th>\n",
       "      <td>MSTV</td>\n",
       "      <td>0.110736</td>\n",
       "    </tr>\n",
       "    <tr>\n",
       "      <th>6</th>\n",
       "      <td>ALTV</td>\n",
       "      <td>0.098861</td>\n",
       "    </tr>\n",
       "    <tr>\n",
       "      <th>16</th>\n",
       "      <td>Median</td>\n",
       "      <td>0.098515</td>\n",
       "    </tr>\n",
       "    <tr>\n",
       "      <th>1</th>\n",
       "      <td>AC</td>\n",
       "      <td>0.097836</td>\n",
       "    </tr>\n",
       "    <tr>\n",
       "      <th>10</th>\n",
       "      <td>DP</td>\n",
       "      <td>0.066922</td>\n",
       "    </tr>\n",
       "    <tr>\n",
       "      <th>7</th>\n",
       "      <td>MLTV</td>\n",
       "      <td>0.061220</td>\n",
       "    </tr>\n",
       "    <tr>\n",
       "      <th>0</th>\n",
       "      <td>LB</td>\n",
       "      <td>0.055830</td>\n",
       "    </tr>\n",
       "    <tr>\n",
       "      <th>17</th>\n",
       "      <td>Variance</td>\n",
       "      <td>0.050129</td>\n",
       "    </tr>\n",
       "    <tr>\n",
       "      <th>3</th>\n",
       "      <td>UC</td>\n",
       "      <td>0.040915</td>\n",
       "    </tr>\n",
       "  </tbody>\n",
       "</table>\n",
       "</div>"
      ],
      "text/plain": [
       "    variable  importance\n",
       "4       ASTV    0.150498\n",
       "5       MSTV    0.110736\n",
       "6       ALTV    0.098861\n",
       "16    Median    0.098515\n",
       "1         AC    0.097836\n",
       "10        DP    0.066922\n",
       "7       MLTV    0.061220\n",
       "0         LB    0.055830\n",
       "17  Variance    0.050129\n",
       "3         UC    0.040915"
      ]
     },
     "execution_count": 70,
     "metadata": {},
     "output_type": "execute_result"
    }
   ],
   "source": [
    "feature_importance_NSP = pd.DataFrame()\n",
    "\n",
    "feature_importance_NSP['variable'] = datasets_dict[\"raw_NSP\"][0].columns\n",
    "feature_importance_NSP['importance'] = rf_NSP.feature_importances_\n",
    "\n",
    "# feature_importance values in descending order\n",
    "feature_importance_NSP = feature_importance_NSP.sort_values(by='importance', ascending=False)\n",
    "feature_importance_NSP.head(10)"
   ]
  },
  {
   "cell_type": "code",
   "execution_count": 73,
   "id": "6583299d-c8d6-4063-a3e1-13fc170d90fa",
   "metadata": {},
   "outputs": [
    {
     "data": {
      "image/png": "[encoded data removed]",
      "text/plain": [
       "<Figure size 432x288 with 1 Axes>"
      ]
     },
     "metadata": {
      "needs_background": "light"
     },
     "output_type": "display_data"
    }
   ],
   "source": [
    "fig = plt.figure()\n",
    "ax = fig.add_axes([1, 1, 1, 1])\n",
    "ax.barh(feature_importance_NSP[\"variable\"][0:10], feature_importance_NSP[\"importance\"][0:10], height = .7)\n",
    "plt.show()"
   ]
  },
  {
   "cell_type": "markdown",
   "id": "29e8a18a-aa37-4f21-90f2-755c3d2d2466",
   "metadata": {},
   "source": [
    "In the prediction of the NSP categories, unlike with Class, the most important variables are those related to long term variability: ASTV, percentage of time with abnormal short term variability; MSTV, mean value of short term variability and ALTV, percentage of time with abnormal long term variability."
   ]
  }
 ],
 "metadata": {
  "kernelspec": {
   "display_name": "Python 3 (ipykernel)",
   "language": "python",
   "name": "python3"
  },
  "language_info": {
   "codemirror_mode": {
    "name": "ipython",
    "version": 3
   },
   "file_extension": ".py",
   "mimetype": "text/x-python",
   "name": "python",
   "nbconvert_exporter": "python",
   "pygments_lexer": "ipython3",
   "version": "3.9.12"
  }
 },
 "nbformat": 4,
 "nbformat_minor": 5
}
