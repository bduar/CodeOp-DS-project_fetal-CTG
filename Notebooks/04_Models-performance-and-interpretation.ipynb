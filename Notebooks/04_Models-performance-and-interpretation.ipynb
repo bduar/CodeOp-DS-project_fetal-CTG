{
 "cells": [
  {
   "cell_type": "code",
   "execution_count": null,
   "id": "e930590c-50c2-430e-8b0f-0ced3b22c733",
   "metadata": {},
   "outputs": [],
   "source": [
    "### Header"
   ]
  },
  {
   "cell_type": "markdown",
   "id": "e2b6022a-8689-40ba-9541-14f59e6ce95b",
   "metadata": {},
   "source": [
    "# 4 - Models' performance evaluation and interpretation"
   ]
  },
  {
   "cell_type": "code",
   "execution_count": null,
   "id": "a04bba8a-0ffd-45df-9bdc-1267c14f578a",
   "metadata": {},
   "outputs": [],
   "source": []
  }
 ],
 "metadata": {
  "kernelspec": {
   "display_name": "Python 3 (ipykernel)",
   "language": "python",
   "name": "python3"
  },
  "language_info": {
   "codemirror_mode": {
    "name": "ipython",
    "version": 3
   },
   "file_extension": ".py",
   "mimetype": "text/x-python",
   "name": "python",
   "nbconvert_exporter": "python",
   "pygments_lexer": "ipython3",
   "version": "3.9.12"
  }
 },
 "nbformat": 4,
 "nbformat_minor": 5
}
